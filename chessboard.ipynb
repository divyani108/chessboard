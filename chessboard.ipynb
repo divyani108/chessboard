{
 "cells": [
  {
   "cell_type": "code",
   "execution_count": null,
   "id": "06a03c78",
   "metadata": {},
   "outputs": [],
   "source": [
    "import matplotlib.pyplot as plt\n",
    "import numpy as np\n",
    "from matplotlib.colors import LogNorm\n",
    "\n",
    "dx, dy = 0.015, 0.05\n",
    "x = np.arange(-4.0, 4.0, dx)\n",
    "y = np.arange(-4.0, 4.0, dy)\n",
    "X, Y = np.meshgrid(x, y)\n",
    "extent = np.min(x), np.max(x), np.min(y), np.max(y)\n",
    "z1 = np.add.outer(range(8), range(8)) % 2\n",
    "plt.imshow(z1, cmap=\"binary_r\", interpolation=\"nearest\", extent=extent, alpha=1)\n",
    "\n",
    "def chess(x, y):\n",
    "    return (1 - x / 2 + x ** 5 + y ** 6) * np.exp(-(x ** 2 + y ** 2))\n",
    "z2 = chess(X, Y)\n",
    "plt.imshow(z2, alpha=0.7, interpolation=\"bilinear\", extent=extent)\n",
    "plt.title(\"Chess Board with Python\")\n",
    "plt.show()"
   ]
  },
  {
   "cell_type": "code",
   "execution_count": null,
   "id": "01d87705",
   "metadata": {},
   "outputs": [],
   "source": []
  },
  {
   "cell_type": "code",
   "execution_count": null,
   "id": "18890b66",
   "metadata": {},
   "outputs": [],
   "source": []
  }
 ],
 "metadata": {
  "kernelspec": {
   "display_name": "Python 3",
   "language": "python",
   "name": "python3"
  },
  "language_info": {
   "codemirror_mode": {
    "name": "ipython",
    "version": 3
   },
   "file_extension": ".py",
   "mimetype": "text/x-python",
   "name": "python",
   "nbconvert_exporter": "python",
   "pygments_lexer": "ipython3",
   "version": "3.8.8"
  }
 },
 "nbformat": 4,
 "nbformat_minor": 5
}
